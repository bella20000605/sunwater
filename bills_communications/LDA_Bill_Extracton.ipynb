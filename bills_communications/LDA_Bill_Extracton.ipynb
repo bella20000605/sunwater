{
 "cells": [
  {
   "cell_type": "markdown",
   "metadata": {},
   "source": [
    "# Purspose\n",
    "\n",
    "Extract bill numbers from a specific column in a lobbying dataset and compare these extracted bill numbers with another dataset to identify discrepancies. Specifically, it:\n",
    "\n",
    "Reads the dataset containing lobbying information.\n",
    "\n",
    "Extracts bill numbers from a text column using a regex pattern.\n",
    "\n",
    "Joins the extracted bill numbers back with the original dataset.\n",
    "\n",
    "Compares these extracted bill numbers with another dataset to find differences\n",
    "\n",
    "Identifies and outputs discrepancies in bill numbers between the two datasets."
   ]
  },
  {
   "cell_type": "code",
   "execution_count": 8,
   "metadata": {},
   "outputs": [],
   "source": [
    "import pandas as pd\n",
    "import re\n",
    "\n",
    "# Read the CSV files\n",
    "ldabills_df = pd.read_csv('lobbying_bills.csv')\n",
    "ip4_bills = pd.read_csv('ip4_bill_links.csv')\n"
   ]
  },
  {
   "cell_type": "code",
   "execution_count": 9,
   "metadata": {},
   "outputs": [],
   "source": [
    "# Sample data for demonstration\n",
    "ldabills_df = pd.DataFrame({\n",
    "    'report_year': [2022, 2022, 2023],\n",
    "    'lobby_report_issue_id': [1, 2, 3],\n",
    "    'specific_issue': [\n",
    "        'Support for H.R. 1234 and opposition to S. 5678. Additional interest in H.R. 987.',\n",
    "        'Monitoring S. 1122, H.R. 4321, and H.R. 8765 for potential impacts on industry.',\n",
    "        'Advocacy for S. 3344.'\n",
    "    ]\n",
    "})\n",
    "\n",
    "ip4_bills = pd.DataFrame({\n",
    "    'lobby_report_issue_id': [1, 1, 2, 3],\n",
    "    'bill_number': ['HR1234', 'S5678', 'HR4321', 'S3344']\n",
    "})\n"
   ]
  },
  {
   "cell_type": "code",
   "execution_count": 10,
   "metadata": {},
   "outputs": [
    {
     "name": "stdout",
     "output_type": "stream",
     "text": [
      "0    [H.R, S, H.R]\n",
      "1    [S, H.R, H.R]\n",
      "2              [S]\n",
      "Name: extracted_bills, dtype: object\n"
     ]
    }
   ],
   "source": [
    "# Function to extract bill numbers using regular expressions\n",
    "def extract_bill_numbers(text):\n",
    "    bill_pattern = r'(?<![a-z\\d])\\b(H\\.?R|S)\\.? ?\\d+'  # Regex pattern to match bill numbers\n",
    "    bills = re.findall(bill_pattern, text, flags=re.IGNORECASE) # Extract bill numbers\n",
    "    bills = [re.sub(r'\\s', '', bill) for bill in bills]  # Remove whitespace from bill numbers\n",
    "    return bills\n",
    "\n",
    "# Apply the function to the 'specific_issue' column\n",
    "ldabills_df['extracted_bills'] = ldabills_df['specific_issue'].apply(extract_bill_numbers)\n",
    "print(ldabills_df['extracted_bills'])\n",
    "\n"
   ]
  },
  {
   "cell_type": "code",
   "execution_count": 13,
   "metadata": {},
   "outputs": [
    {
     "name": "stdout",
     "output_type": "stream",
     "text": [
      "   report_year  lobby_report_issue_id extracted_bills\n",
      "0         2022                      1             H.R\n",
      "0         2022                      1               S\n",
      "0         2022                      1             H.R\n",
      "1         2022                      2               S\n",
      "1         2022                      2             H.R\n",
      "1         2022                      2             H.R\n",
      "2         2023                      3               S\n"
     ]
    }
   ],
   "source": [
    "# Convert list to a dataframe and join with the original dataframe\n",
    "bills_df = ldabills_df.explode('extracted_bills')[['report_year', 'lobby_report_issue_id', 'extracted_bills']]\n",
    "print(bills_df)\n"
   ]
  },
  {
   "cell_type": "code",
   "execution_count": 14,
   "metadata": {},
   "outputs": [],
   "source": [
    "# Normalize bill numbers by removing periods and spaces\n",
    "ip4_bills['bill_number'] = ip4_bills['bill_number'].str.replace(r'\\.| ', '', regex=True)\n",
    "bills_df['extracted_bills'] = bills_df['extracted_bills'].str.replace(r'\\.| ', '', regex=True)"
   ]
  },
  {
   "cell_type": "code",
   "execution_count": 15,
   "metadata": {},
   "outputs": [
    {
     "name": "stdout",
     "output_type": "stream",
     "text": [
      "   lobby_report_issue_id bill_number bill_identifier\n",
      "0                      1      HR1234        1_HR1234\n",
      "1                      1       S5678         1_S5678\n",
      "2                      2      HR4321        2_HR4321\n",
      "3                      3       S3344         3_S3344\n",
      "   report_year  lobby_report_issue_id extracted_bills bill_identifier\n",
      "0         2022                      1              HR            1_HR\n",
      "0         2022                      1               S             1_S\n",
      "0         2022                      1              HR            1_HR\n",
      "1         2022                      2               S             2_S\n",
      "1         2022                      2              HR            2_HR\n",
      "1         2022                      2              HR            2_HR\n",
      "2         2023                      3               S             3_S\n"
     ]
    }
   ],
   "source": [
    "# Combine bill identifier\n",
    "ip4_bills['bill_identifier'] = (ip4_bills['lobby_report_issue_id'].astype(str) + \"_\" + ip4_bills['bill_number']).str.upper()\n",
    "bills_df['bill_identifier'] = (bills_df['lobby_report_issue_id'].astype(str) + \"_\" + bills_df['extracted_bills']).str.upper()\n",
    "\n",
    "print(ip4_bills)\n",
    "print(bills_df)"
   ]
  },
  {
   "cell_type": "code",
   "execution_count": 16,
   "metadata": {},
   "outputs": [
    {
     "name": "stdout",
     "output_type": "stream",
     "text": [
      "report_year\n",
      "2022    6\n",
      "2023    1\n",
      "dtype: int64\n"
     ]
    }
   ],
   "source": [
    "\n",
    "# Bills in new extraction that are not in existing ip4 data\n",
    "new_extraction_not_in_ip4 = bills_df[~bills_df['bill_identifier'].isin(ip4_bills['bill_identifier'])].groupby('report_year').size()\n",
    "\n",
    "\n",
    "print(new_extraction_not_in_ip4)\n",
    "\n"
   ]
  },
  {
   "cell_type": "code",
   "execution_count": 18,
   "metadata": {},
   "outputs": [
    {
     "ename": "KeyError",
     "evalue": "'report_year'",
     "output_type": "error",
     "traceback": [
      "\u001b[0;31m---------------------------------------------------------------------------\u001b[0m",
      "\u001b[0;31mKeyError\u001b[0m                                  Traceback (most recent call last)",
      "\u001b[1;32m/Users/bella/Downloads/New folder/LDA_Bill_Extracton.ipynb Cell 9\u001b[0m line \u001b[0;36m2\n\u001b[1;32m      <a href='vscode-notebook-cell:/Users/bella/Downloads/New%20folder/LDA_Bill_Extracton.ipynb#X16sZmlsZQ%3D%3D?line=0'>1</a>\u001b[0m \u001b[39m# Bills in existing ip4 data that is not in new extraction\u001b[39;00m\n\u001b[0;32m----> <a href='vscode-notebook-cell:/Users/bella/Downloads/New%20folder/LDA_Bill_Extracton.ipynb#X16sZmlsZQ%3D%3D?line=1'>2</a>\u001b[0m ip4_not_in_new_extraction \u001b[39m=\u001b[39m ip4_bills[\u001b[39m~\u001b[39mip4_bills[\u001b[39m'\u001b[39m\u001b[39mbill_identifier\u001b[39m\u001b[39m'\u001b[39m]\u001b[39m.\u001b[39misin(bills_df[\u001b[39m'\u001b[39m\u001b[39mbill_identifier\u001b[39m\u001b[39m'\u001b[39m])]\u001b[39m.\u001b[39mgroupby(\u001b[39m'\u001b[39m\u001b[39mreport_year\u001b[39m\u001b[39m'\u001b[39m)\u001b[39m.\u001b[39msize()\n\u001b[1;32m      <a href='vscode-notebook-cell:/Users/bella/Downloads/New%20folder/LDA_Bill_Extracton.ipynb#X16sZmlsZQ%3D%3D?line=3'>4</a>\u001b[0m \u001b[39mprint\u001b[39m(ip4_not_in_new_extraction)\n",
      "File \u001b[0;32m~/anaconda3/lib/python3.11/site-packages/pandas/core/frame.py:9183\u001b[0m, in \u001b[0;36mDataFrame.groupby\u001b[0;34m(self, by, axis, level, as_index, sort, group_keys, observed, dropna)\u001b[0m\n\u001b[1;32m   9180\u001b[0m \u001b[39mif\u001b[39;00m level \u001b[39mis\u001b[39;00m \u001b[39mNone\u001b[39;00m \u001b[39mand\u001b[39;00m by \u001b[39mis\u001b[39;00m \u001b[39mNone\u001b[39;00m:\n\u001b[1;32m   9181\u001b[0m     \u001b[39mraise\u001b[39;00m \u001b[39mTypeError\u001b[39;00m(\u001b[39m\"\u001b[39m\u001b[39mYou have to supply one of \u001b[39m\u001b[39m'\u001b[39m\u001b[39mby\u001b[39m\u001b[39m'\u001b[39m\u001b[39m and \u001b[39m\u001b[39m'\u001b[39m\u001b[39mlevel\u001b[39m\u001b[39m'\u001b[39m\u001b[39m\"\u001b[39m)\n\u001b[0;32m-> 9183\u001b[0m \u001b[39mreturn\u001b[39;00m DataFrameGroupBy(\n\u001b[1;32m   9184\u001b[0m     obj\u001b[39m=\u001b[39m\u001b[39mself\u001b[39m,\n\u001b[1;32m   9185\u001b[0m     keys\u001b[39m=\u001b[39mby,\n\u001b[1;32m   9186\u001b[0m     axis\u001b[39m=\u001b[39maxis,\n\u001b[1;32m   9187\u001b[0m     level\u001b[39m=\u001b[39mlevel,\n\u001b[1;32m   9188\u001b[0m     as_index\u001b[39m=\u001b[39mas_index,\n\u001b[1;32m   9189\u001b[0m     sort\u001b[39m=\u001b[39msort,\n\u001b[1;32m   9190\u001b[0m     group_keys\u001b[39m=\u001b[39mgroup_keys,\n\u001b[1;32m   9191\u001b[0m     observed\u001b[39m=\u001b[39mobserved,\n\u001b[1;32m   9192\u001b[0m     dropna\u001b[39m=\u001b[39mdropna,\n\u001b[1;32m   9193\u001b[0m )\n",
      "File \u001b[0;32m~/anaconda3/lib/python3.11/site-packages/pandas/core/groupby/groupby.py:1329\u001b[0m, in \u001b[0;36mGroupBy.__init__\u001b[0;34m(self, obj, keys, axis, level, grouper, exclusions, selection, as_index, sort, group_keys, observed, dropna)\u001b[0m\n\u001b[1;32m   1326\u001b[0m \u001b[39mself\u001b[39m\u001b[39m.\u001b[39mdropna \u001b[39m=\u001b[39m dropna\n\u001b[1;32m   1328\u001b[0m \u001b[39mif\u001b[39;00m grouper \u001b[39mis\u001b[39;00m \u001b[39mNone\u001b[39;00m:\n\u001b[0;32m-> 1329\u001b[0m     grouper, exclusions, obj \u001b[39m=\u001b[39m get_grouper(\n\u001b[1;32m   1330\u001b[0m         obj,\n\u001b[1;32m   1331\u001b[0m         keys,\n\u001b[1;32m   1332\u001b[0m         axis\u001b[39m=\u001b[39maxis,\n\u001b[1;32m   1333\u001b[0m         level\u001b[39m=\u001b[39mlevel,\n\u001b[1;32m   1334\u001b[0m         sort\u001b[39m=\u001b[39msort,\n\u001b[1;32m   1335\u001b[0m         observed\u001b[39m=\u001b[39m\u001b[39mFalse\u001b[39;00m \u001b[39mif\u001b[39;00m observed \u001b[39mis\u001b[39;00m lib\u001b[39m.\u001b[39mno_default \u001b[39melse\u001b[39;00m observed,\n\u001b[1;32m   1336\u001b[0m         dropna\u001b[39m=\u001b[39m\u001b[39mself\u001b[39m\u001b[39m.\u001b[39mdropna,\n\u001b[1;32m   1337\u001b[0m     )\n\u001b[1;32m   1339\u001b[0m \u001b[39mif\u001b[39;00m observed \u001b[39mis\u001b[39;00m lib\u001b[39m.\u001b[39mno_default:\n\u001b[1;32m   1340\u001b[0m     \u001b[39mif\u001b[39;00m \u001b[39many\u001b[39m(ping\u001b[39m.\u001b[39m_passed_categorical \u001b[39mfor\u001b[39;00m ping \u001b[39min\u001b[39;00m grouper\u001b[39m.\u001b[39mgroupings):\n",
      "File \u001b[0;32m~/anaconda3/lib/python3.11/site-packages/pandas/core/groupby/grouper.py:1043\u001b[0m, in \u001b[0;36mget_grouper\u001b[0;34m(obj, key, axis, level, sort, observed, validate, dropna)\u001b[0m\n\u001b[1;32m   1041\u001b[0m         in_axis, level, gpr \u001b[39m=\u001b[39m \u001b[39mFalse\u001b[39;00m, gpr, \u001b[39mNone\u001b[39;00m\n\u001b[1;32m   1042\u001b[0m     \u001b[39melse\u001b[39;00m:\n\u001b[0;32m-> 1043\u001b[0m         \u001b[39mraise\u001b[39;00m \u001b[39mKeyError\u001b[39;00m(gpr)\n\u001b[1;32m   1044\u001b[0m \u001b[39melif\u001b[39;00m \u001b[39misinstance\u001b[39m(gpr, Grouper) \u001b[39mand\u001b[39;00m gpr\u001b[39m.\u001b[39mkey \u001b[39mis\u001b[39;00m \u001b[39mnot\u001b[39;00m \u001b[39mNone\u001b[39;00m:\n\u001b[1;32m   1045\u001b[0m     \u001b[39m# Add key to exclusions\u001b[39;00m\n\u001b[1;32m   1046\u001b[0m     exclusions\u001b[39m.\u001b[39madd(gpr\u001b[39m.\u001b[39mkey)\n",
      "\u001b[0;31mKeyError\u001b[0m: 'report_year'"
     ]
    }
   ],
   "source": [
    "# Bills in existing ip4 data that is not in new extraction\n",
    "ip4_not_in_new_extraction = ip4_bills[~ip4_bills['bill_identifier'].isin(bills_df['bill_identifier'])].groupby('report_year').size()\n",
    "\n",
    "print(ip4_not_in_new_extraction)"
   ]
  },
  {
   "cell_type": "code",
   "execution_count": null,
   "metadata": {},
   "outputs": [],
   "source": [
    "\n",
    "# Random examples from 2022\n",
    "random_examples_2022 = bills_df[(~bills_df['bill_identifier'].isin(ip4_bills['bill_identifier'])) & (bills_df['report_year'] == 2022)].sample(10)\n",
    "\n",
    "\n",
    "\n",
    "# View results\n",
    "print(new_extraction_not_in_ip4)\n",
    "print(ip4_not_in_new_extraction)\n",
    "print(random_examples_2022)\n"
   ]
  }
 ],
 "metadata": {
  "kernelspec": {
   "display_name": "base",
   "language": "python",
   "name": "python3"
  },
  "language_info": {
   "codemirror_mode": {
    "name": "ipython",
    "version": 3
   },
   "file_extension": ".py",
   "mimetype": "text/x-python",
   "name": "python",
   "nbconvert_exporter": "python",
   "pygments_lexer": "ipython3",
   "version": "3.11.8"
  },
  "orig_nbformat": 4
 },
 "nbformat": 4,
 "nbformat_minor": 2
}
